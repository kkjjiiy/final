{
 "cells": [],
 "metadata": {},
 "nbformat": 4,
 "nbformat_minor": 2
}
import seaborn as sns
import numpy as np
import pandas as pd
import matplotlib.pyplot as plt
data = pd.read_csv("平均消費.csv")
print(data)
sns.set(style="darkgrid")
