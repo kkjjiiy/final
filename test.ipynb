{
 "cells": [
  {
   "cell_type": "code",
   "execution_count": 1,
   "metadata": {},
   "outputs": [
    {
     "name": "stdout",
     "output_type": "stream",
     "text": [
      "   year  per_day      people  people_thousand   total\n",
      "0  2009   216.30   4,395,004         4395.004   68.16\n",
      "1  2010   221.84   5,567,277         5567.277   87.19\n",
      "2  2011   257.82   6,087,484         6087.484  110.65\n",
      "3  2012   234.31   7,311,470         7311.470  117.69\n",
      "4  2013   224.07   8,016,280         8016.280  123.22\n",
      "5  2014   221.76   9,910,204         9910.204  146.15\n",
      "6  2015   207.87  10,439,785        10439.785  143.88\n",
      "7  2016   192.77  10,690,279        10690.279  133.74\n",
      "8  2017   179.45  10,739,601        10739.601  123.15\n",
      "9  2018   191.70  11,066,707        11066.707  137.05\n"
     ]
    }
   ],
   "source": [
    "import seaborn as sns\n",
    "import numpy as np\n",
    "import pandas as pd\n",
    "import matplotlib.pyplot as plt\n",
    "data = pd.read_csv(\"平均消費.csv\")\n",
    "print(data)\n",
    "sns.set(style=\"darkgrid\")"
   ]
  },
  {
   "cell_type": "code",
   "execution_count": 4,
   "metadata": {},
   "outputs": [
    {
     "data": {
      "image/png": "[encoded data removed]",
      "text/plain": [
       "<matplotlib.figure.Figure at 0x117ecb320>"
      ]
     },
     "metadata": {},
     "output_type": "display_data"
    }
   ],
   "source": [
    "# 來台每日人均\n",
    "sns.barplot(x=\"year\",y=\"per_day\",data=data)\n",
    "plt.show()"
   ]
  },
  {
   "cell_type": "code",
   "execution_count": null,
   "metadata": {},
   "outputs": [],
   "source": []
  }
 ],
 "metadata": {
  "kernelspec": {
   "display_name": "Python 3",
   "language": "python",
   "name": "python3"
  },
  "language_info": {
   "codemirror_mode": {
    "name": "ipython",
    "version": 3
   },
   "file_extension": ".py",
   "mimetype": "text/x-python",
   "name": "python",
   "nbconvert_exporter": "python",
   "pygments_lexer": "ipython3",
   "version": "3.6.4"
  }
 },
 "nbformat": 4,
 "nbformat_minor": 2
}
